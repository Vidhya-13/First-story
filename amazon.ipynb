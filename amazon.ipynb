{
 "cells": [
  {
   "cell_type": "markdown",
   "metadata": {},
   "source": [
    "**Optimizer Box Weights**"
   ]
  },
  {
   "cell_type": "markdown",
   "metadata": {},
   "source": [
    "**Conditions**\n",
    "1. Array = item weights\n",
    "2. Divide the array into 2 subsets (A and B)\n",
    "3. Intersection of A and B is null\n",
    "4. The union of A and B is equal to the original array\n",
    "5. Number of elements in A is less than B\n",
    "6. Weight of subset A is greater than B"
   ]
  },
  {
   "cell_type": "markdown",
   "metadata": {},
   "source": [
    "**ToDo**\n",
    "1. Sort the input array\n",
    "2. Calculate the length of the array"
   ]
  },
  {
   "cell_type": "code",
   "execution_count": null,
   "metadata": {},
   "outputs": [],
   "source": [
    "def minimalHeaviestSetA(arr):\n",
    "    set(arr.sort(reverse=True))   #sort the array in descending order\n",
    "    length = len(arr)               #get the length of the array\n",
    "    arr1 = set()                      #initialize an empty array to store the first half of the array\n",
    "    arr2 = set()                       #initialize an empty array to store the second half of the array\n",
    "    for items in arr:\n",
    "        if sum(arr1) < sum(arr2):\n",
    "            arr1.add(items)\n",
    "        else:\n",
    "            arr2.add(items)\n",
    "    return sum(arr1), sum(arr2)\n",
    "            "
   ]
  },
  {
   "cell_type": "code",
   "execution_count": 1,
   "metadata": {},
   "outputs": [],
   "source": [
    "def fizzBuzz(n):\n",
    "    # Write your code here\n",
    "    print(n)\n",
    "    for i in range(1,n+1):\n",
    "        if i%3==0 and i%5==0: #check if the number is divisible by both 3 and 5\n",
    "            print(\"FizzBuzz\")\n",
    "        elif (i%3==0 and i%5!=0): #check if the number is divisible by 3 only\n",
    "            print(\"Fizz\")\n",
    "        elif i%5==0 and i%3!=0: #check if the number is divisible by 5 only\n",
    "            print(\"Buzz\")\n",
    "        else:\n",
    "            print(i) #print the number if it is not divisible by 3 or 5\n",
    "    return"
   ]
  },
  {
   "cell_type": "code",
   "execution_count": 5,
   "metadata": {},
   "outputs": [
    {
     "name": "stdout",
     "output_type": "stream",
     "text": [
      "65\n",
      "1\n",
      "2\n",
      "Fizz\n",
      "4\n",
      "Buzz\n",
      "Fizz\n",
      "7\n",
      "8\n",
      "Fizz\n",
      "Buzz\n",
      "11\n",
      "Fizz\n",
      "13\n",
      "14\n",
      "FizzBuzz\n",
      "16\n",
      "17\n",
      "Fizz\n",
      "19\n",
      "Buzz\n",
      "Fizz\n",
      "22\n",
      "23\n",
      "Fizz\n",
      "Buzz\n",
      "26\n",
      "Fizz\n",
      "28\n",
      "29\n",
      "FizzBuzz\n",
      "31\n",
      "32\n",
      "Fizz\n",
      "34\n",
      "Buzz\n",
      "Fizz\n",
      "37\n",
      "38\n",
      "Fizz\n",
      "Buzz\n",
      "41\n",
      "Fizz\n",
      "43\n",
      "44\n",
      "FizzBuzz\n",
      "46\n",
      "47\n",
      "Fizz\n",
      "49\n",
      "Buzz\n",
      "Fizz\n",
      "52\n",
      "53\n",
      "Fizz\n",
      "Buzz\n",
      "56\n",
      "Fizz\n",
      "58\n",
      "59\n",
      "FizzBuzz\n",
      "61\n",
      "62\n",
      "Fizz\n",
      "64\n",
      "Buzz\n"
     ]
    }
   ],
   "source": [
    "fizzBuzz(65)"
   ]
  },
  {
   "cell_type": "code",
   "execution_count": null,
   "metadata": {},
   "outputs": [],
   "source": []
  }
 ],
 "metadata": {
  "kernelspec": {
   "display_name": "base",
   "language": "python",
   "name": "python3"
  },
  "language_info": {
   "codemirror_mode": {
    "name": "ipython",
    "version": 3
   },
   "file_extension": ".py",
   "mimetype": "text/x-python",
   "name": "python",
   "nbconvert_exporter": "python",
   "pygments_lexer": "ipython3",
   "version": "3.11.7"
  }
 },
 "nbformat": 4,
 "nbformat_minor": 2
}
