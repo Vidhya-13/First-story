{
 "cells": [
  {
   "cell_type": "markdown",
   "id": "68ea0d27-0965-422c-990a-68e3994ad2a6",
   "metadata": {},
   "source": [
    "# Feet to meter converter"
   ]
  },
  {
   "cell_type": "code",
   "execution_count": 11,
   "id": "baa7f0ed-34e4-483f-a7a4-12e01566c6c5",
   "metadata": {},
   "outputs": [],
   "source": [
    "def ft_to_meter(ft):\n",
    "    m = ft*0.3048\n",
    "    return m"
   ]
  },
  {
   "cell_type": "markdown",
   "id": "5d962741-3dbf-4d13-8f9c-c52ccbdf90d6",
   "metadata": {},
   "source": [
    "# BMI Calculator"
   ]
  },
  {
   "cell_type": "code",
   "execution_count": 14,
   "id": "3d6ef053-6310-4d00-8db6-28bdc5358a55",
   "metadata": {},
   "outputs": [],
   "source": [
    "def bmi_cal(height_ft, weight_kg):\n",
    "    #height_m = height_ft*0.3048  #formula to convert ft to meters\n",
    "    #height_cm = height_ft*30.48  #formula to convert ft to cms\n",
    "    height_m = ft_to_meter(height_ft)\n",
    "    bmi = weight_kg / (height_m ** 2)\n",
    "    print(\"bmi:\",bmi)\n",
    "    if bmi <= 25:\n",
    "        print(\"you are not overweight\")\n",
    "    else:\n",
    "        print(\"you are overweight\")"
   ]
  },
  {
   "cell_type": "code",
   "execution_count": 15,
   "id": "4c01b73a-b5e1-400f-b9bd-6eef454cd8a8",
   "metadata": {},
   "outputs": [
    {
     "name": "stdout",
     "output_type": "stream",
     "text": [
      "bmi: 24.710538146716534\n",
      "you are not overweight\n"
     ]
    }
   ],
   "source": [
    "bmi_cal(6.6, 100)"
   ]
  },
  {
   "cell_type": "markdown",
   "id": "dfb77190-f2f0-4970-ab98-76e098e93c71",
   "metadata": {},
   "source": [
    "# Miles to Km converter"
   ]
  },
  {
   "cell_type": "code",
   "execution_count": 16,
   "id": "4deb500c-56ce-490a-b7d6-706f3242db03",
   "metadata": {},
   "outputs": [],
   "source": [
    "def km_to_miles(miles):\n",
    "    km = 1.6*miles #formula to convert km to miles\n",
    "    return km"
   ]
  },
  {
   "cell_type": "code",
   "execution_count": 17,
   "id": "149c3224-e765-4675-9a0b-ae619abe3699",
   "metadata": {},
   "outputs": [
    {
     "name": "stdout",
     "output_type": "stream",
     "text": [
      "5.44\n"
     ]
    }
   ],
   "source": [
    "dist = km_to_miles(3.4)\n",
    "print(dist)"
   ]
  }
 ],
 "metadata": {
  "kernelspec": {
   "display_name": "Python 3 (ipykernel)",
   "language": "python",
   "name": "python3"
  },
  "language_info": {
   "codemirror_mode": {
    "name": "ipython",
    "version": 3
   },
   "file_extension": ".py",
   "mimetype": "text/x-python",
   "name": "python",
   "nbconvert_exporter": "python",
   "pygments_lexer": "ipython3",
   "version": "3.11.7"
  }
 },
 "nbformat": 4,
 "nbformat_minor": 5
}
