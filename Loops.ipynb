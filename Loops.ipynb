{
 "cells": [
  {
   "cell_type": "code",
   "execution_count": 4,
   "id": "26018469-c2f9-4156-a536-248543b1dc39",
   "metadata": {},
   "outputs": [
    {
     "name": "stdout",
     "output_type": "stream",
     "text": [
      "The datatypes of the variables are not the same\n"
     ]
    }
   ],
   "source": [
    "v1 = \"Have a nice day\"\n",
    "v2 = 4 //2\n",
    "v3 = 4.0\n",
    "v4 = True\n",
    "if type(v1) == type(v2):\n",
    "    print(\"The datatype of V1 and V2 are the same\")\n",
    "elif type(v2) == (v3):\n",
    "    print(\"The datatype of V2 and V3 are the same\")\n",
    "else: \n",
    "    print(\"The datatypes of the variables are not the same\")"
   ]
  }
 ],
 "metadata": {
  "kernelspec": {
   "display_name": "Python 3 (ipykernel)",
   "language": "python",
   "name": "python3"
  },
  "language_info": {
   "codemirror_mode": {
    "name": "ipython",
    "version": 3
   },
   "file_extension": ".py",
   "mimetype": "text/x-python",
   "name": "python",
   "nbconvert_exporter": "python",
   "pygments_lexer": "ipython3",
   "version": "3.11.7"
  }
 },
 "nbformat": 4,
 "nbformat_minor": 5
}
