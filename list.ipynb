{
 "cells": [
  {
   "cell_type": "markdown",
   "id": "070059e4-dac4-4124-8bd3-caeb9e0e55da",
   "metadata": {},
   "source": [
    "# Lists"
   ]
  },
  {
   "cell_type": "markdown",
   "id": "510f236e-ee14-40db-8b5f-6c1c941b32a9",
   "metadata": {},
   "source": [
    "## Define a list"
   ]
  },
  {
   "cell_type": "markdown",
   "id": "8258b912-779e-4fe8-9192-6c545cac7c6c",
   "metadata": {},
   "source": [
    "*List can be defined with the help of square brackets*"
   ]
  },
  {
   "cell_type": "code",
   "execution_count": 1,
   "id": "c2b2ef78-9f89-40cb-bc32-8b93a0195230",
   "metadata": {},
   "outputs": [
    {
     "name": "stdout",
     "output_type": "stream",
     "text": [
      "[1, -2, 3, 4]\n"
     ]
    }
   ],
   "source": [
    "a = [1, -2, 3, 4]\n",
    "print(a)"
   ]
  },
  {
   "cell_type": "markdown",
   "id": "3a2f2026-14e8-490b-8e6b-4d3455cc58f2",
   "metadata": {},
   "source": [
    "## Modify Lists"
   ]
  },
  {
   "cell_type": "markdown",
   "id": "cf7d0160-07ff-4564-87e1-2b580b719295",
   "metadata": {},
   "source": [
    "### 1. Append an item to the list -> Include more items to an exisisting list\n",
    "*By default the item added to the list using the append function is added at the end of the list. One list can contain multiple datatypes*"
   ]
  },
  {
   "cell_type": "code",
   "execution_count": 2,
   "id": "22e834b3-e3ea-4760-8c21-8c9c58717b94",
   "metadata": {},
   "outputs": [],
   "source": [
    "a.append(3)                                               #Append an integer to the existing list\n",
    "a.append(5.0)                                             #Append a float to the existing list\n",
    "a.append([6, 7])                                          #Append a list to the existing list\n",
    "a.append(\"Hello\")                                         #Append a string to the existing list"
   ]
  },
  {
   "cell_type": "code",
   "execution_count": 3,
   "id": "785172ef-3b53-448f-9668-e2ecc3e99311",
   "metadata": {},
   "outputs": [
    {
     "name": "stdout",
     "output_type": "stream",
     "text": [
      "[1, -2, 3, 4, 3, 5.0, [6, 7], 'Hello']\n"
     ]
    }
   ],
   "source": [
    "print(a)"
   ]
  },
  {
   "cell_type": "markdown",
   "id": "5c9d8aa0-021b-4aa3-94af-1495ca9d159e",
   "metadata": {},
   "source": [
    "### 2. Remove/Delete an item in the list\n",
    "*By default the items deleted from the list using the pop function removes the item at the end of the list. One list can contain multiple datatypes*"
   ]
  },
  {
   "cell_type": "code",
   "execution_count": 4,
   "id": "476ab7a6-a656-49b6-9aaf-e93abd5b0730",
   "metadata": {},
   "outputs": [
    {
     "name": "stdout",
     "output_type": "stream",
     "text": [
      "[1, -2, 3, 4, 3, 5.0, [6, 7]]\n"
     ]
    }
   ],
   "source": [
    "a.pop()\n",
    "print(a)"
   ]
  },
  {
   "cell_type": "markdown",
   "id": "80aad4df-1fc1-47c1-9ffd-1473e8e6d058",
   "metadata": {},
   "source": [
    "### 3. Return item(s) from the list\n",
    "*Using index of item we can return the items of the list. Index starts with number 0. Hence the first item of the list is returned. \n",
    "Note: The last item in the list has an index -1  *"
   ]
  },
  {
   "cell_type": "code",
   "execution_count": 5,
   "id": "0c199f6a-8d10-4ce9-8d9e-61d3f8e4615c",
   "metadata": {},
   "outputs": [
    {
     "name": "stdout",
     "output_type": "stream",
     "text": [
      "1\n"
     ]
    }
   ],
   "source": [
    "print(a[0]) #returns the item that is in the first position of the list."
   ]
  },
  {
   "cell_type": "code",
   "execution_count": 6,
   "id": "cc4f5983-483b-4cbe-bf89-7f932fb6d5aa",
   "metadata": {},
   "outputs": [
    {
     "name": "stdout",
     "output_type": "stream",
     "text": [
      "[6]\n"
     ]
    }
   ],
   "source": [
    "print([6])"
   ]
  },
  {
   "cell_type": "code",
   "execution_count": 7,
   "id": "cc75f41a-6255-4853-843a-2d8656ed5108",
   "metadata": {},
   "outputs": [
    {
     "name": "stdout",
     "output_type": "stream",
     "text": [
      "[-1]\n"
     ]
    }
   ],
   "source": [
    "print([-1])"
   ]
  },
  {
   "cell_type": "markdown",
   "id": "b72f7dc6",
   "metadata": {},
   "source": [
    "### 4. Replace items in the list"
   ]
  },
  {
   "cell_type": "code",
   "execution_count": 8,
   "id": "911c1061",
   "metadata": {},
   "outputs": [],
   "source": [
    "a[0] = 'changed item' #changes the item that is in the first position of the list."
   ]
  },
  {
   "cell_type": "code",
   "execution_count": 9,
   "id": "6ce71f32",
   "metadata": {},
   "outputs": [
    {
     "name": "stdout",
     "output_type": "stream",
     "text": [
      "['changed item', -2, 3, 4, 3, 5.0, [6, 7]]\n"
     ]
    }
   ],
   "source": [
    "print(a)"
   ]
  },
  {
   "cell_type": "code",
   "execution_count": 10,
   "id": "54f7a18d",
   "metadata": {},
   "outputs": [],
   "source": [
    "b = [\"banana\", \"apple\", \"microsoft\"]"
   ]
  },
  {
   "cell_type": "code",
   "execution_count": 15,
   "id": "bb06afaf",
   "metadata": {},
   "outputs": [],
   "source": [
    "b[0], b[2] = \"microsoft\", \"banana\""
   ]
  },
  {
   "cell_type": "code",
   "execution_count": 17,
   "id": "5633746a",
   "metadata": {},
   "outputs": [
    {
     "name": "stdout",
     "output_type": "stream",
     "text": [
      "['microsoft', 'apple', 'banana']\n"
     ]
    }
   ],
   "source": [
    "print(b)"
   ]
  }
 ],
 "metadata": {
  "kernelspec": {
   "display_name": "Python 3 (ipykernel)",
   "language": "python",
   "name": "python3"
  },
  "language_info": {
   "codemirror_mode": {
    "name": "ipython",
    "version": 3
   },
   "file_extension": ".py",
   "mimetype": "text/x-python",
   "name": "python",
   "nbconvert_exporter": "python",
   "pygments_lexer": "ipython3",
   "version": "3.11.7"
  }
 },
 "nbformat": 4,
 "nbformat_minor": 5
}
