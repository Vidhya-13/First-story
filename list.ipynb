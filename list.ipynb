{
 "cells": [
  {
   "cell_type": "markdown",
   "id": "070059e4-dac4-4124-8bd3-caeb9e0e55da",
   "metadata": {},
   "source": [
    "# Lists"
   ]
  },
  {
   "cell_type": "markdown",
   "id": "510f236e-ee14-40db-8b5f-6c1c941b32a9",
   "metadata": {},
   "source": [
    "## Define a list"
   ]
  },
  {
   "cell_type": "markdown",
   "id": "8258b912-779e-4fe8-9192-6c545cac7c6c",
   "metadata": {},
   "source": [
    "*List can be defined with the help of square brackets*"
   ]
  },
  {
   "cell_type": "code",
   "execution_count": 51,
   "id": "c2b2ef78-9f89-40cb-bc32-8b93a0195230",
   "metadata": {},
   "outputs": [
    {
     "name": "stdout",
     "output_type": "stream",
     "text": [
      "[1, -2, 3, 4, -9, 6, 1, 7, 8, 0]\n"
     ]
    }
   ],
   "source": [
    "a = [1, -2, 3, 4, -9, 6, 1, 7, 8, 0]\n",
    "print(a)"
   ]
  },
  {
   "cell_type": "markdown",
   "id": "f713cefa",
   "metadata": {},
   "source": [
    "# Accessing list items"
   ]
  },
  {
   "cell_type": "markdown",
   "id": "2dee034a",
   "metadata": {},
   "source": [
    "List items can be accessed by their index. In python the index starts from 0 and negative indexing is possible.\n",
    "so index 0 refers to the first item and -1 refers to the last item of the list. "
   ]
  },
  {
   "cell_type": "code",
   "execution_count": 36,
   "id": "60849921",
   "metadata": {},
   "outputs": [
    {
     "name": "stdout",
     "output_type": "stream",
     "text": [
      "4\n"
     ]
    }
   ],
   "source": [
    "print(a[3])"
   ]
  },
  {
   "cell_type": "code",
   "execution_count": 37,
   "id": "453b2322",
   "metadata": {},
   "outputs": [
    {
     "name": "stdout",
     "output_type": "stream",
     "text": [
      "7\n"
     ]
    }
   ],
   "source": [
    "print(a[-3])"
   ]
  },
  {
   "cell_type": "markdown",
   "id": "526c2dcf",
   "metadata": {},
   "source": [
    "It is possible to specify a range of the indices to return the items in the list"
   ]
  },
  {
   "cell_type": "code",
   "execution_count": 35,
   "id": "2d6069da",
   "metadata": {},
   "outputs": [
    {
     "name": "stdout",
     "output_type": "stream",
     "text": [
      "[3, 4, -9]\n"
     ]
    }
   ],
   "source": [
    "print(a[2:5])"
   ]
  },
  {
   "cell_type": "code",
   "execution_count": 38,
   "id": "3cca7119",
   "metadata": {},
   "outputs": [
    {
     "name": "stdout",
     "output_type": "stream",
     "text": [
      "[3, 4, -9, 6, 1, 7, 8, 0]\n"
     ]
    }
   ],
   "source": [
    "print(a[2:])"
   ]
  },
  {
   "cell_type": "code",
   "execution_count": 39,
   "id": "dac76725",
   "metadata": {},
   "outputs": [
    {
     "name": "stdout",
     "output_type": "stream",
     "text": [
      "[1, -2, 3, 4, -9]\n"
     ]
    }
   ],
   "source": [
    "print(a[:5])"
   ]
  },
  {
   "cell_type": "code",
   "execution_count": 40,
   "id": "c88a06c4",
   "metadata": {},
   "outputs": [
    {
     "name": "stdout",
     "output_type": "stream",
     "text": [
      "[1, 7]\n"
     ]
    }
   ],
   "source": [
    "print(a[-4:-2])"
   ]
  },
  {
   "cell_type": "markdown",
   "id": "594bc98d",
   "metadata": {},
   "source": [
    "# Check if an item exists in a list"
   ]
  },
  {
   "cell_type": "code",
   "execution_count": 43,
   "id": "bab3fdf0",
   "metadata": {},
   "outputs": [
    {
     "name": "stdout",
     "output_type": "stream",
     "text": [
      "Yes, 'apple' is in the fruits list\n"
     ]
    }
   ],
   "source": [
    "thislist = [\"apple\", \"banana\", \"cherry\"]\n",
    "if \"apple\" in thislist:\n",
    "  print(\"Yes, 'apple' is in the fruits list\")"
   ]
  },
  {
   "cell_type": "markdown",
   "id": "3a2f2026-14e8-490b-8e6b-4d3455cc58f2",
   "metadata": {},
   "source": [
    "## Modify Lists"
   ]
  },
  {
   "cell_type": "markdown",
   "id": "cf7d0160-07ff-4564-87e1-2b580b719295",
   "metadata": {},
   "source": [
    "### 1. Adding an item to the list -> Include more items to an exisisting list\n",
    "### append()\n",
    "*By default the item added to the list using the append function is added at the end of the list. One list can contain multiple datatypes*"
   ]
  },
  {
   "cell_type": "code",
   "execution_count": 53,
   "id": "22e834b3-e3ea-4760-8c21-8c9c58717b94",
   "metadata": {},
   "outputs": [],
   "source": [
    "a.append(3)                                               #Append an integer to the existing list\n",
    "a.append(5.0)                                             #Append a float to the existing list\n",
    "a.append([6, 7])                                          #Append a list to the existing list\n",
    "a.append(\"Hello\")                                         #Append a string to the existing list\n",
    "a.append((8, 9))                                          #Append a tuple to the existing list\n",
    "a.append({10, 11})                                        #Append a set to the existing list\n",
    "a.append({\"name\": \"John\", \"age\": 36})                    #Append a dictionary to the existing list"
   ]
  },
  {
   "cell_type": "code",
   "execution_count": 54,
   "id": "785172ef-3b53-448f-9668-e2ecc3e99311",
   "metadata": {},
   "outputs": [
    {
     "name": "stdout",
     "output_type": "stream",
     "text": [
      "[1, -2, 3, 4, -9, 6, 1, 7, 8, 0, 3, 5.0, [6, 7], 'Hello', (8, 9), {10, 11}, {'name': 'John', 'age': 36}, 3, 5.0, [6, 7], 'Hello', (8, 9), {10, 11}, {'name': 'John', 'age': 36}]\n"
     ]
    }
   ],
   "source": [
    "print(a)"
   ]
  },
  {
   "cell_type": "markdown",
   "id": "9f41af12",
   "metadata": {},
   "source": [
    "### insert ()\n",
    "Using the insert function you can add the item to the list at a position you desire. "
   ]
  },
  {
   "cell_type": "code",
   "execution_count": 44,
   "id": "186cd453",
   "metadata": {},
   "outputs": [
    {
     "name": "stdout",
     "output_type": "stream",
     "text": [
      "[1, 'orange', -2, 3, 4, -9, 6, 1, 7, 8, 0, 3, 5.0, [6, 7], 'Hello']\n"
     ]
    }
   ],
   "source": [
    "a.insert(1, \"orange\")\n",
    "print(a)"
   ]
  },
  {
   "cell_type": "markdown",
   "id": "24151679",
   "metadata": {},
   "source": [
    "### extend()\n",
    "Using the extend() you can add any iterable object(tuple, dictionary, set, lists) to the existing list"
   ]
  },
  {
   "cell_type": "code",
   "execution_count": 45,
   "id": "b74e89d6",
   "metadata": {},
   "outputs": [
    {
     "name": "stdout",
     "output_type": "stream",
     "text": [
      "[1, 'orange', -2, 3, 4, -9, 6, 1, 7, 8, 0, 3, 5.0, [6, 7], 'Hello', 'mango', 'pineapple', 'papaya']\n"
     ]
    }
   ],
   "source": [
    "tropical = [\"mango\", \"pineapple\", \"papaya\"]\n",
    "a.extend(tropical)\n",
    "print(a)"
   ]
  },
  {
   "cell_type": "code",
   "execution_count": 46,
   "id": "9a928444",
   "metadata": {},
   "outputs": [
    {
     "name": "stdout",
     "output_type": "stream",
     "text": [
      "[1, 'orange', -2, 3, 4, -9, 6, 1, 7, 8, 0, 3, 5.0, [6, 7], 'Hello', 'mango', 'pineapple', 'papaya', 'apple', 'banana', 'cherry']\n"
     ]
    }
   ],
   "source": [
    "thistuple = (\"apple\", \"banana\", \"cherry\")\n",
    "a.extend(thistuple)\n",
    "print(a)"
   ]
  },
  {
   "cell_type": "code",
   "execution_count": 47,
   "id": "9633e15f",
   "metadata": {},
   "outputs": [
    {
     "name": "stdout",
     "output_type": "stream",
     "text": [
      "[1, 'orange', -2, 3, 4, -9, 6, 1, 7, 8, 0, 3, 5.0, [6, 7], 'Hello', 'mango', 'pineapple', 'papaya', 'apple', 'banana', 'cherry', 'Name', 'Age', 'Class']\n"
     ]
    }
   ],
   "source": [
    "dict = {'Name': 'Zara', 'Age': 7, 'Class': 'First'}\n",
    "a.extend(dict)\n",
    "print(a)"
   ]
  },
  {
   "cell_type": "code",
   "execution_count": 48,
   "id": "c62a2159",
   "metadata": {},
   "outputs": [
    {
     "name": "stdout",
     "output_type": "stream",
     "text": [
      "[1, 'orange', -2, 3, 4, -9, 6, 1, 7, 8, 0, 3, 5.0, [6, 7], 'Hello', 'mango', 'pineapple', 'papaya', 'apple', 'banana', 'cherry', 'Name', 'Age', 'Class', 'banana', 'cherry', 'apple']\n"
     ]
    }
   ],
   "source": [
    "thisset = {\"apple\", \"banana\", \"cherry\"}\n",
    "a.extend(thisset)\n",
    "print(a)"
   ]
  },
  {
   "cell_type": "markdown",
   "id": "5c9d8aa0-021b-4aa3-94af-1495ca9d159e",
   "metadata": {},
   "source": [
    "### 2. Remove/Delete an item in the list\n",
    "\n",
    "### pop()\n",
    "*The pop() method removes the specified index. If the index is not specified the pop function removes the item at the end of the list*"
   ]
  },
  {
   "cell_type": "code",
   "execution_count": 57,
   "id": "665de9ef",
   "metadata": {},
   "outputs": [
    {
     "data": {
      "text/plain": [
       "3"
      ]
     },
     "execution_count": 57,
     "metadata": {},
     "output_type": "execute_result"
    }
   ],
   "source": [
    "a.pop(1)"
   ]
  },
  {
   "cell_type": "code",
   "execution_count": 58,
   "id": "476ab7a6-a656-49b6-9aaf-e93abd5b0730",
   "metadata": {},
   "outputs": [
    {
     "name": "stdout",
     "output_type": "stream",
     "text": [
      "[1, 4, -9, 6, 1, 7, 8, 0, 3, 5.0, [6, 7], 'Hello', (8, 9), {10, 11}, {'name': 'John', 'age': 36}, 3, 5.0, [6, 7], 'Hello', (8, 9), {10, 11}]\n"
     ]
    }
   ],
   "source": [
    "a.pop()\n",
    "print(a)"
   ]
  },
  {
   "cell_type": "markdown",
   "id": "418fbad7",
   "metadata": {},
   "source": [
    "### remove()"
   ]
  },
  {
   "cell_type": "markdown",
   "id": "13f29ac5",
   "metadata": {},
   "source": [
    "The remove() method removes the specified item. If there are more than one item with the specified value, the remove() method removes the first occurrence:"
   ]
  },
  {
   "cell_type": "code",
   "execution_count": 59,
   "id": "3906cbf4",
   "metadata": {},
   "outputs": [
    {
     "name": "stdout",
     "output_type": "stream",
     "text": [
      "['apple', 'cherry', 'banana', 'kiwi']\n"
     ]
    }
   ],
   "source": [
    "thislist = [\"apple\", \"banana\", \"cherry\", \"banana\", \"kiwi\"]\n",
    "thislist.remove(\"banana\")\n",
    "print(thislist)"
   ]
  },
  {
   "cell_type": "markdown",
   "id": "e9f3a30f",
   "metadata": {},
   "source": [
    "### Clear()\n",
    "The clear() method empties the list. \n",
    "The list still remains, but it has no content."
   ]
  },
  {
   "cell_type": "code",
   "execution_count": null,
   "id": "9b7c6297",
   "metadata": {},
   "outputs": [],
   "source": [
    "thislist = [\"apple\", \"banana\", \"cherry\"]\n",
    "thislist.clear()\n",
    "print(thislist)"
   ]
  },
  {
   "cell_type": "markdown",
   "id": "6e78ee8b",
   "metadata": {},
   "source": [
    "### del()\n",
    "\n",
    "The del keyword also removes the specified index."
   ]
  },
  {
   "cell_type": "code",
   "execution_count": 60,
   "id": "bbef700b",
   "metadata": {},
   "outputs": [
    {
     "name": "stdout",
     "output_type": "stream",
     "text": [
      "['banana', 'cherry']\n"
     ]
    }
   ],
   "source": [
    "thislist = [\"apple\", \"banana\", \"cherry\"]\n",
    "del thislist[0]\n",
    "print(thislist)"
   ]
  },
  {
   "cell_type": "markdown",
   "id": "bcbf21f7",
   "metadata": {},
   "source": [
    "When index is not specified the del keyword can also delete the list completely. "
   ]
  },
  {
   "cell_type": "code",
   "execution_count": 61,
   "id": "521b241a",
   "metadata": {},
   "outputs": [],
   "source": [
    "thislist = [\"apple\", \"banana\", \"cherry\"]\n",
    "del thislist"
   ]
  },
  {
   "cell_type": "markdown",
   "id": "b72f7dc6",
   "metadata": {},
   "source": [
    "### 4. Replace items in the list"
   ]
  },
  {
   "cell_type": "code",
   "execution_count": 8,
   "id": "911c1061",
   "metadata": {},
   "outputs": [],
   "source": [
    "a[0] = 'changed item' #changes the item that is in the first position of the list."
   ]
  },
  {
   "cell_type": "code",
   "execution_count": 9,
   "id": "6ce71f32",
   "metadata": {},
   "outputs": [
    {
     "name": "stdout",
     "output_type": "stream",
     "text": [
      "['changed item', -2, 3, 4, 3, 5.0, [6, 7]]\n"
     ]
    }
   ],
   "source": [
    "print(a)"
   ]
  },
  {
   "cell_type": "code",
   "execution_count": 10,
   "id": "54f7a18d",
   "metadata": {},
   "outputs": [],
   "source": [
    "b = [\"banana\", \"apple\", \"microsoft\"]"
   ]
  },
  {
   "cell_type": "code",
   "execution_count": 15,
   "id": "bb06afaf",
   "metadata": {},
   "outputs": [],
   "source": [
    "b[0], b[2] = \"microsoft\", \"banana\""
   ]
  },
  {
   "cell_type": "code",
   "execution_count": 17,
   "id": "5633746a",
   "metadata": {},
   "outputs": [
    {
     "name": "stdout",
     "output_type": "stream",
     "text": [
      "['microsoft', 'apple', 'banana']\n"
     ]
    }
   ],
   "source": [
    "print(b)"
   ]
  },
  {
   "cell_type": "code",
   "execution_count": 15,
   "id": "3c90db42",
   "metadata": {},
   "outputs": [
    {
     "name": "stdout",
     "output_type": "stream",
     "text": [
      "[1, 2, 3, 4, 5, 4, 3, 2, 1]\n"
     ]
    }
   ],
   "source": [
    "list = str([1, 2, 3, 4, 5, 4, 3, 2, 1])\n",
    "print(list)"
   ]
  },
  {
   "cell_type": "code",
   "execution_count": 16,
   "id": "dc6b2562",
   "metadata": {},
   "outputs": [
    {
     "data": {
      "text/plain": [
       "str"
      ]
     },
     "execution_count": 16,
     "metadata": {},
     "output_type": "execute_result"
    }
   ],
   "source": [
    "type(list)"
   ]
  },
  {
   "cell_type": "code",
   "execution_count": 18,
   "id": "a3ff109e",
   "metadata": {},
   "outputs": [],
   "source": [
    "array = [1, 2, 3, 4, 5, 4, 3, 2, 1]\n",
    "array_3D = [[[1, 2, 3], [4, 5, 6], [7, 8, 9]]]"
   ]
  },
  {
   "cell_type": "code",
   "execution_count": 22,
   "id": "e97d18c6",
   "metadata": {},
   "outputs": [
    {
     "name": "stdout",
     "output_type": "stream",
     "text": [
      "[[1, 2, 3]]\n",
      "[[7, 8, 9]]\n"
     ]
    },
    {
     "ename": "TypeError",
     "evalue": "unsupported operand type(s) for +: 'int' and 'list'",
     "output_type": "error",
     "traceback": [
      "\u001b[1;31m---------------------------------------------------------------------------\u001b[0m",
      "\u001b[1;31mTypeError\u001b[0m                                 Traceback (most recent call last)",
      "Cell \u001b[1;32mIn[22], line 5\u001b[0m\n\u001b[0;32m      3\u001b[0m \u001b[38;5;28mprint\u001b[39m(diag)\n\u001b[0;32m      4\u001b[0m \u001b[38;5;28mprint\u001b[39m(counter_diag)\n\u001b[1;32m----> 5\u001b[0m \u001b[38;5;28mprint\u001b[39m(\u001b[38;5;28mabs\u001b[39m(\u001b[38;5;28msum\u001b[39m(diag) \u001b[38;5;241m-\u001b[39m \u001b[38;5;28msum\u001b[39m(counter_diag)))\n",
      "\u001b[1;31mTypeError\u001b[0m: unsupported operand type(s) for +: 'int' and 'list'"
     ]
    }
   ],
   "source": [
    "diag = [array_3D[i][i] for i in range(0, len(array_3D))]\n",
    "counter_diag = [array_3D[i][~i] for i in range(0, len(array_3D))]\n",
    "print(diag)\n",
    "print(counter_diag)\n",
    " \n",
    "#print(abs(sum(diag, counter_diag)))\n",
    "    "
   ]
  },
  {
   "cell_type": "code",
   "execution_count": null,
   "id": "32b4b0ef",
   "metadata": {},
   "outputs": [],
   "source": []
  }
 ],
 "metadata": {
  "kernelspec": {
   "display_name": "Python 3 (ipykernel)",
   "language": "python",
   "name": "python3"
  },
  "language_info": {
   "codemirror_mode": {
    "name": "ipython",
    "version": 3
   },
   "file_extension": ".py",
   "mimetype": "text/x-python",
   "name": "python",
   "nbconvert_exporter": "python",
   "pygments_lexer": "ipython3",
   "version": "3.11.7"
  }
 },
 "nbformat": 4,
 "nbformat_minor": 5
}
