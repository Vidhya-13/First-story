{
 "cells": [
  {
   "cell_type": "code",
   "execution_count": 9,
   "id": "26018469-c2f9-4156-a536-248543b1dc39",
   "metadata": {},
   "outputs": [],
   "source": [
    "v1 = \"mom\"\n",
    "v2 = \"dad\""
   ]
  },
  {
   "cell_type": "code",
   "execution_count": 13,
   "id": "d1907ab9-95bf-415f-9057-eb3a74804602",
   "metadata": {},
   "outputs": [],
   "source": [
    "temp = v1\n",
    "v1 = v2\n",
    "v2 = temp"
   ]
  },
  {
   "cell_type": "code",
   "execution_count": 14,
   "id": "dcdf4c37-943a-4974-842e-cce52e6c6040",
   "metadata": {},
   "outputs": [
    {
     "name": "stdout",
     "output_type": "stream",
     "text": [
      "dad mom\n"
     ]
    }
   ],
   "source": [
    "print(v1, v2)"
   ]
  }
 ],
 "metadata": {
  "kernelspec": {
   "display_name": "Python 3 (ipykernel)",
   "language": "python",
   "name": "python3"
  },
  "language_info": {
   "codemirror_mode": {
    "name": "ipython",
    "version": 3
   },
   "file_extension": ".py",
   "mimetype": "text/x-python",
   "name": "python",
   "nbconvert_exporter": "python",
   "pygments_lexer": "ipython3",
   "version": "3.11.7"
  }
 },
 "nbformat": 4,
 "nbformat_minor": 5
}
