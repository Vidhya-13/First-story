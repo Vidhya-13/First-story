{
 "cells": [
  {
   "cell_type": "markdown",
   "metadata": {},
   "source": [
    "***Classes***\n",
    "\n",
    "A class is like a blueprint or template for creating something. For example, lets plan a video game. *This is the blueprint that tells us what properties (name, health) and methods (jump, run) our characters will have.* we can have a class called Character that defines what abilities (methods) and traits (attributes) a character has. \n",
    "\n",
    "***Objects***\n",
    "\n",
    "An object is like a character in our game. Each character has its own abilities and characteristics. For example, a character named \"Mario\" has abilities like jumping and running. \n",
    "\n",
    "***Methods***\n",
    "\n",
    "Methods are like actions that a character can perform. For example, jumping or running are actions that Mario can do. In Python, methods are functions that belong to a class and can be used by its objects."
   ]
  },
  {
   "cell_type": "code",
   "execution_count": 1,
   "metadata": {},
   "outputs": [
    {
     "name": "stdout",
     "output_type": "stream",
     "text": [
      "Mario is jumping!\n",
      "Luigi is running!\n"
     ]
    }
   ],
   "source": [
    "# This is our class (blueprint) for characters in the game\n",
    "class Character:\n",
    "    # This is the blueprint for initializing a new character with a name and health\n",
    "    def __init__(self, name, health):\n",
    "        self.name = name  # Name of the character\n",
    "        self.health = health  # Health of the character\n",
    "\n",
    "    # This method allows the character to jump\n",
    "    def jump(self):\n",
    "        print(f\"{self.name} is jumping!\")\n",
    "\n",
    "    # This method allows the character to run\n",
    "    def run(self):\n",
    "        print(f\"{self.name} is running!\")\n",
    "\n",
    "# Creating objects (characters) using the Character class - These are the actual characters created from the Character class. \n",
    "# Each character has its own name and health.\n",
    "mario = Character(\"Mario\", 100)\n",
    "luigi = Character(\"Luigi\", 100)\n",
    "\n",
    "# Using methods (actions) for the objects\n",
    "mario.jump()  # Output: Mario is jumping!\n",
    "luigi.run()   # Output: Luigi is running!\n"
   ]
  },
  {
   "cell_type": "markdown",
   "metadata": {},
   "source": [
    "* In the below example:\n",
    "    1. Class is a blueprint for creating pets(tells us what properties (name, pet_type) and methods (make_sound) our pets will have),\n",
    "    2. Objects are individual pets(Each pet has its own name and type) \n",
    "    3. Methods are function within the class. In this case the actions that pets can perform, like making sounds\n"
   ]
  },
  {
   "cell_type": "code",
   "execution_count": null,
   "metadata": {},
   "outputs": [],
   "source": [
    "# This is our class (blueprint) for pets\n",
    "class Pet:\n",
    "    # This is the blueprint for initializing a new pet with a name and type\n",
    "    def __init__(self, name, pet_type):\n",
    "        self.name = name  # Name of the pet\n",
    "        self.pet_type = pet_type  # Type of the pet (e.g., dog, cat)\n",
    "\n",
    "    # This method allows the pet to make a sound\n",
    "    def make_sound(self):\n",
    "        if self.pet_type == \"dog\":\n",
    "            print(f\"{self.name} says: Woof!\")\n",
    "        elif self.pet_type == \"cat\":\n",
    "            print(f\"{self.name} says: Meow!\")\n",
    "        else:\n",
    "            print(f\"{self.name} makes a sound!\")\n",
    "\n",
    "# Creating objects (pets) using the Pet class\n",
    "pet1 = Pet(\"Buddy\", \"dog\")\n",
    "pet2 = Pet(\"Whiskers\", \"cat\")\n",
    "pet3 = Pet(\"Tweety\", \"bird\")\n",
    "\n",
    "# Using methods (actions) for the objects\n",
    "pet1.make_sound()  # Output: Buddy says: Woof!\n",
    "pet2.make_sound()  # Output: Whiskers says: Meow!\n",
    "pet3.make_sound()  # Output: Tweety makes a sound!\n"
   ]
  },
  {
   "cell_type": "code",
   "execution_count": null,
   "metadata": {},
   "outputs": [],
   "source": [
    "class coffeemachine:\n",
    "    def __init__(self, options):\n",
    "        self.options = options\n",
    "    \n",
    "    def make_coffee(self):\n",
    "        \n",
    "        print(f\"Making coffee with {self.options}...\")\n",
    "    \n",
    "    def make_tea(self):\n",
    "        print(f\"Making tea with {self.options}...\")\n",
    "\n"
   ]
  },
  {
   "cell_type": "code",
   "execution_count": 3,
   "metadata": {},
   "outputs": [],
   "source": [
    "# Begining with a deck of even size = N cards that are half red and half green(N/2 red and N/2 green) you begin drawing cards. For each red card you draw, you get 1 point. For each green card you draw, you lose 1 point. What is the value of this game to you after assuming you play optimally?\n",
    "# The expected value of the game can be calculated using dynamic programming. The expected value of the game is the sum of the expected values of the two possible outcomes (drawing a red card or drawing a green card) weighted by the probability of each outcome. The probability of drawing a red card is R / (R + G), and the probability of drawing a green card is G / (R + G). The expected value of the game can be recursively calculated as follows:  \n",
    "# E(R, G) = (R / (R + G)) * (1 + E(R - 1, G)) + (G / (R + G)) * (-1 + E(R, G - 1))\n",
    "def game_value(deck_size):\n",
    "    # Create a dictionary to store the expected values\n",
    "    memo = {}\n",
    "\n",
    "    def expected_value(red, green):\n",
    "        # Base case: no cards left\n",
    "        if red == 0 and green == 0:\n",
    "            return 0\n",
    "\n",
    "        # Check if the expected value is already calculated\n",
    "        if (red, green) in memo:\n",
    "            return memo[(red, green)]\n",
    "\n",
    "        # Calculate the expected value\n",
    "        expected_val = (red * (1 + expected_value(red - 1, green)) +\n",
    "                        green * (-1 + expected_value(red, green - 1))) / (red + green)\n",
    "\n",
    "        # Store the expected value in the dictionary\n",
    "        memo[(red, green)] = expected_val\n",
    "\n",
    "        return expected_val\n",
    "\n",
    "    # Call the expected_value function with the initial state\n",
    "    return expected_value(deck_size // 2, deck_size // 2)\n",
    "\n"
   ]
  },
  {
   "cell_type": "code",
   "execution_count": 13,
   "metadata": {},
   "outputs": [],
   "source": [
    "import sys"
   ]
  },
  {
   "cell_type": "code",
   "execution_count": 16,
   "metadata": {},
   "outputs": [],
   "source": [
    "def game_value(deck_size):\n",
    "    # Create a dictionary to store the expected values\n",
    "    sys.setrecursionlimit(10**6)\n",
    "    ex_val= {}\n",
    "\n",
    "    def expected_value(red, green):\n",
    "        # Base case: no cards left\n",
    "        if red == 0 and green == 0:\n",
    "            return 0\n",
    "        \n",
    "        # Check if the expected value is already calculated\n",
    "        if (red, green) in ex_val:\n",
    "            return ex_val[(red, green)]\n",
    "\n",
    "        else:\n",
    "        # Calculate the expected value\n",
    "            expected_val = (red * (1 + expected_value(red - 1, green)) + green * (-1 + expected_value(red, green - 1))) / (red + green)  \n",
    "        # Store the expected value in the dictionary\n",
    "            ex_val[(red, green)] = expected_val\n",
    "\n",
    "        return expected_val\n",
    "\n",
    "    # Call the expected_value function with the initial state\n",
    "    return expected_value(deck_size // 2, deck_size // 2)"
   ]
  },
  {
   "cell_type": "code",
   "execution_count": 17,
   "metadata": {},
   "outputs": [
    {
     "name": "stderr",
     "output_type": "stream",
     "text": [
      "\n",
      "KeyboardInterrupt\n",
      "\n"
     ]
    }
   ],
   "source": [
    "game_value(52)  # Output: 0.0"
   ]
  },
  {
   "cell_type": "code",
   "execution_count": 1,
   "metadata": {},
   "outputs": [],
   "source": [
    "class PnLCalculator:\n",
    "    def __init__(self):\n",
    "        self.latest_prices = {}  # Maps instrument_id to the latest price\n",
    "        self.trades = {}  # Maps instrument_id to a list of trades\n",
    "        self.worst_trades = {}  # Maps instrument_id to the trade with the highest loss\n",
    "\n",
    "    def process_trade(self, trade_id, instrument_id, buy_sell, price, volume):\n",
    "        if instrument_id not in self.trades:\n",
    "            self.trades[instrument_id] = []\n",
    "\n",
    "        self.trades[instrument_id].append((trade_id, buy_sell, price, volume))\n",
    "\n",
    "        # Calculate the PnL for this trade\n",
    "        latest_price = self.latest_prices[instrument_id]\n",
    "        pnl_per_lot = latest_price - price if buy_sell == 'B' else price - latest_price\n",
    "\n",
    "        # Update the worst trade if this trade is worse\n",
    "        if pnl_per_lot < 0:  # Only consider trades with losses\n",
    "            if instrument_id not in self.worst_trades:\n",
    "                self.worst_trades[instrument_id] = (trade_id, pnl_per_lot)\n",
    "            else:\n",
    "                worst_trade_id, worst_pnl_per_lot = self.worst_trades[instrument_id]\n",
    "                if pnl_per_lot < worst_pnl_per_lot:\n",
    "                    self.worst_trades[instrument_id] = (trade_id, pnl_per_lot)\n",
    "\n",
    "    def process_price_update(self, instrument_id, price):\n",
    "        self.latest_prices[instrument_id] = price\n",
    "\n",
    "    def output_worst_trade(self, instrument_id):\n",
    "        if instrument_id in self.worst_trades:\n",
    "            return self.worst_trades[instrument_id][0]\n",
    "        else:\n",
    "            return \"NO BAD TRADES\"\n",
    "\n",
    "if __name__ == \"__main__\":\n",
    "    import sys\n",
    "\n",
    "    calculator = PnLCalculator()\n",
    "    n = int(sys.stdin.readline().strip())\n",
    "    for _ in range(n):\n",
    "        line = sys.stdin.readline().strip().split()\n",
    "        if line[0] == \"TRADE\":\n",
    "            trade_id = int(line[1])\n",
    "            instrument_id = line[2]\n",
    "            buy_sell = line[3]\n",
    "            price = int(line[4])\n",
    "            volume = int(line[5])\n",
    "            calculator.process_trade(trade_id, instrument_id, buy_sell, price, volume)\n",
    "        elif line[0] == \"PRICE\":\n",
    "            instrument_id = line[1]\n",
    "            price = int(line[2])\n",
    "            calculator.process_price_update(instrument_id, price)\n",
    "        elif line[0] == \"WORST_TRADE\":\n",
    "            instrument_id = line[1]\n",
    "            print(calculator.output_worst_trade(instrument_id))\n",
    "        else:\n",
    "            raise Exception(\"Malformed input!\")"
   ]
  },
  {
   "cell_type": "code",
   "execution_count": 1,
   "metadata": {},
   "outputs": [],
   "source": [
    "class PnLCalculator:\n",
    "    def __init__(self):\n",
    "        self.latest_prices = {}  # Maps instrument_id to the latest price\n",
    "        self.trades = {}  # Maps instrument_id to a list of trades\n",
    "        self.worst_trades = {}  # Maps instrument_id to the trade with the highest loss\n",
    "\n",
    "    def process_trade(self, trade_id, instrument_id, buy_sell, price, volume):\n",
    "        if instrument_id not in self.trades:\n",
    "            self.trades[instrument_id] = []\n",
    "\n",
    "        self.trades[instrument_id].append((trade_id, buy_sell, price, volume))\n",
    "\n",
    "        # Calculate the PnL for this trade\n",
    "        latest_price = self.latest_prices[instrument_id]\n",
    "        if buy_sell == 'B':\n",
    "            pnl_per_lot = latest_price - price\n",
    "        else:\n",
    "            pnl_per_lot = price - latest_price\n",
    "\n",
    "        # Update the worst trade if this trade is worse\n",
    "        if pnl_per_lot < 0:  # Only consider trades with losses\n",
    "            if instrument_id not in self.worst_trades:\n",
    "                self.worst_trades[instrument_id] = (trade_id, pnl_per_lot)\n",
    "            else:\n",
    "                worst_trade_id, worst_pnl_per_lot = self.worst_trades[instrument_id]\n",
    "                if pnl_per_lot < worst_pnl_per_lot:\n",
    "                    self.worst_trades[instrument_id] = (trade_id, pnl_per_lot)\n",
    "\n",
    "    def process_price_update(self, instrument_id, price):\n",
    "        self.latest_prices[instrument_id] = price\n",
    "\n",
    "    def output_worst_trade(self, instrument_id):\n",
    "        if instrument_id in self.worst_trades:\n",
    "            return self.worst_trades[instrument_id][0]\n",
    "        else:\n",
    "            return \"NO BAD TRADES\""
   ]
  },
  {
   "cell_type": "code",
   "execution_count": null,
   "metadata": {},
   "outputs": [],
   "source": [
    "class rectangle:\n",
    "    def __init__(self, width, height):\n",
    "        self.width = width\n",
    "        self.height = height\n",
    "\n",
    "    def area(self):\n",
    "        return self.width * self.height\n",
    "\n",
    "    def perimeter(self):\n",
    "        return 2 * (self.width + self.height)\n"
   ]
  },
  {
   "cell_type": "code",
   "execution_count": null,
   "metadata": {},
   "outputs": [],
   "source": [
    "class circle:\n",
    "    def __init__(self, radius):\n",
    "        self.radius = radius\n",
    "\n",
    "    def area(self):\n",
    "        return 3.14159 * self.radius ** 2\n",
    "\n",
    "    def circumference(self):\n",
    "        return 2 * 3.14159 * self.radius"
   ]
  },
  {
   "cell_type": "code",
   "execution_count": 1,
   "metadata": {},
   "outputs": [],
   "source": [
    "import math\n",
    "import os\n",
    "import random\n",
    "import re\n",
    "import sys"
   ]
  },
  {
   "cell_type": "code",
   "execution_count": 2,
   "metadata": {},
   "outputs": [],
   "source": [
    "class Car:\n",
    "    def __str__(self, speed, unit):\n",
    "        speed = self.speed\n",
    "        unit = self.unit\n",
    "    \n",
    "    def carspeed(speed, unit):\n",
    "        return f\"Car with the maximum speed of {speed} {unit}.\""
   ]
  },
  {
   "cell_type": "code",
   "execution_count": 3,
   "metadata": {},
   "outputs": [],
   "source": [
    "class Boat:\n",
    "    def __str__(self, max_speed):\n",
    "        self.max_speed\n",
    "    \n",
    "    def boatspeed(self):\n",
    "        return f\"Boat with the maximum speed of {self.max_speed} knots\""
   ]
  },
  {
   "cell_type": "code",
   "execution_count": 4,
   "metadata": {},
   "outputs": [],
   "source": [
    "q = (int(input()))\n",
    "args = input().split()\n",
    "vehicle_type, params = args[0], args[1:]\n",
    "if vehicle_type == \"car\":\n",
    "            max_speed, speed_unit = int(params[0]), params[1]\n",
    "            vehicle = Car(max_speed, speed_unit)\n",
    "elif vehicle_type == \"boat\":\n",
    "    max_speed = int(params[0])\n",
    "    vehicle = Boat(max_speed)\n",
    "else:\n",
    "    raise ValueError(\"invalid vehicle type\")"
   ]
  }
 ],
 "metadata": {
  "kernelspec": {
   "display_name": "base",
   "language": "python",
   "name": "python3"
  },
  "language_info": {
   "codemirror_mode": {
    "name": "ipython",
    "version": 3
   },
   "file_extension": ".py",
   "mimetype": "text/x-python",
   "name": "python",
   "nbconvert_exporter": "python",
   "pygments_lexer": "ipython3",
   "version": "3.11.7"
  }
 },
 "nbformat": 4,
 "nbformat_minor": 2
}
